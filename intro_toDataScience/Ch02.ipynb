{
 "cells": [
  {
   "cell_type": "markdown",
   "metadata": {},
   "source": [
    "Descriptive statistics, data preparation. Exploratory Data Analysis data summarization,\n",
    "data distribution, measuring asymmetry. Sample and estimated mean, variance and\n",
    "standard score. Statistical Inference frequency approach, variability of estimates,\n",
    "hypothesis testing using confidence intervals, using p-values"
   ]
  },
  {
   "cell_type": "code",
   "execution_count": 1,
   "metadata": {},
   "outputs": [],
   "source": [
    "# Data Preparation \n",
    "# Reading the data first\n",
    "file = open ('C:/Users/ALICE/Desktop/Data science/intro_toDataScience/adult.csv', 'r')\n",
    "def chr_int(a):\n",
    "    if a.isdigit(): return int (a)\n",
    "    else: return 0\n",
    "data = []\n",
    "for line in file:\n",
    "    datal = line.split(' , ')\n",
    "    if len (datal) == 15:\n",
    "        data.append ([chr_int(datal[0]) , datal [1],\n",
    "        chr_int(datal[2]) , datal [3],\n",
    "        chr_int(datal[4]) , datal [5],\n",
    "        datal[6], datal[7], datal[8],\n",
    "        datal[9], chr_int(datal[10]),\n",
    "        chr_int(datal[11]),\n",
    "        chr_int(datal[12]),\n",
    "        datal[13] , datal[14]\n",
    "\n",
    "        ])\n"
   ]
  },
  {
   "cell_type": "code",
   "execution_count": 2,
   "metadata": {},
   "outputs": [
    {
     "name": "stdout",
     "output_type": "stream",
     "text": [
      "[[25, 'Private', 226802, '11th', 7, 'Never-married', 'Machine-op-inspct', 'Own-child', 'Black', 'Male', 0, 0, 40, 'United-States', '<=50K\\n']]\n"
     ]
    }
   ],
   "source": [
    "file = open ('C:/Users/ALICE/Desktop/Data science/intro_toDataScience/adult.csv', 'r')\n",
    "def chr_int (a):\n",
    "\n",
    "    if a. isdigit () : return int (a)\n",
    "\n",
    "    else : return 0\n",
    "data = []\n",
    "for line in file :\n",
    "     data1 = line . split (',')\n",
    "\n",
    "     if len ( data1 ) == 15:\n",
    "\n",
    "      data . append ([ chr_int ( data1 [0]) , data1 [1] ,\n",
    "chr_int ( data1 [2]) , data1 [3] ,\n",
    "chr_int ( data1 [4]) , data1 [5] ,\n",
    "data1 [6] , data1 [7] , data1 [8] ,\n",
    "data1 [9] , chr_int ( data1 [10]) ,\n",
    "chr_int ( data1 [11]) ,\n",
    "chr_int ( data1 [12]) ,\n",
    "data1 [13] , data1 [14]\n",
    "])\n",
    "\n",
    "print ( data [1:2])"
   ]
  },
  {
   "cell_type": "code",
   "execution_count": 3,
   "metadata": {},
   "outputs": [
    {
     "data": {
      "text/plain": [
       "(48843, 15)"
      ]
     },
     "execution_count": 3,
     "metadata": {},
     "output_type": "execute_result"
    }
   ],
   "source": [
    "# creating a  dataframe\n",
    "import pandas as pd\n",
    "df = pd.DataFrame(data)\n",
    "df.columns = ['age', 'type_ emp loy er', 'fnlwgt',\n",
    "'education', 'ed uca tio n_n um', 'marital',\n",
    "'occupation','relatio nsh ip', 'race',\n",
    "'sex', 'capita l_g ain', 'ca pit al_ los s',\n",
    "'hr_ per _we ek', 'country', 'income'\n",
    "    \n",
    "]\n",
    "\n",
    "df.shape"
   ]
  },
  {
   "cell_type": "code",
   "execution_count": 4,
   "metadata": {},
   "outputs": [
    {
     "name": "stdout",
     "output_type": "stream",
     "text": [
      "country\n",
      "?           857\n",
      "Cambodia     28\n",
      "Canada      182\n",
      "China       122\n",
      "Columbia     85\n",
      "dtype: int64\n"
     ]
    }
   ],
   "source": [
    "count = df.groupby('country'). size()\n",
    "print(count.head())"
   ]
  },
  {
   "cell_type": "code",
   "execution_count": null,
   "metadata": {},
   "outputs": [],
   "source": [
    "# Spit the data based on the gender\n",
    "ml = df[(df.sex == ' Male')]"
   ]
  },
  {
   "cell_type": "code",
   "execution_count": null,
   "metadata": {},
   "outputs": [],
   "source": [
    "#If we focus on high-income professionals separated by sex, we can do:\n",
    "ml1 = df[(df.sex == ' Male') & (df.income == '>50K/n')]\n",
    "\n",
    "fm = df [(df.sex == 'Female')]\n",
    "fm1 = fm = df [(df.sex == 'Female') & (df.income == '>50K/n')]\n"
   ]
  },
  {
   "cell_type": "code",
   "execution_count": null,
   "metadata": {},
   "outputs": [
    {
     "name": "stdout",
     "output_type": "stream",
     "text": [
      "The rate of people with high income is: 23 %\n",
      "The rate of men with high income is: 30 %\n",
      "The rate of women with high income is: 10 %\n"
     ]
    }
   ],
   "source": [
    "#Exploratory Data  analysis\n",
    "# Summarizing Data\n",
    "\n",
    "df1 = df[(df.income == '>50K\\n')]\n",
    "\n",
    "#print ('The rate of people with high income is :' , int(len(df1)/float(len(df)) *100) , '%')\n",
    "#print ('The rate of men with high income is :', int(len(ml1)/float(len(ml)) *100), '%')\n",
    "#print ('The rate of women with high income is:' , int(len(fm1)/float(len(fm))*100) , '%')\n",
    "\n",
    "# Filter DataFrame for people with high income\n",
    "#df1 = df[df.income == '>50K\\n']\n",
    "\n",
    "# Filter DataFrame for men and women with high income\n",
    "#ml1 = df[(df.sex == 'Male') & (df.income == '>50K\\n')]\n",
    "#fm1 = df[(df.sex == 'Female') & (df.income == '>50K\\n')]\n",
    "\n",
    "# Filter DataFrame for men and women\n",
    "#ml = df[df.sex == 'Male']\n",
    "#fm = df[df.sex == 'Female']\n",
    "\n",
    "# Calculate and print the rates\n",
    "print('The rate of people with high income is:', int(len(df1) / float(len(df)) * 100), '%')\n",
    "\n",
    "if len(ml) > 0:\n",
    "    print('The rate of men with high income is:', int(len(ml1) / float(len(ml)) * 100), '%')\n",
    "else:\n",
    "    print('No men in the dataset.')\n",
    "\n",
    "if len(fm) > 0:\n",
    "    print('The rate of women with high income is:', int(len(fm1) / float(len(fm)) * 100), '%')\n",
    "else:\n",
    "    print('No women in the dataset.')\n",
    "\n"
   ]
  }
 ],
 "metadata": {
  "kernelspec": {
   "display_name": "Python 3",
   "language": "python",
   "name": "python3"
  },
  "language_info": {
   "codemirror_mode": {
    "name": "ipython",
    "version": 3
   },
   "file_extension": ".py",
   "mimetype": "text/x-python",
   "name": "python",
   "nbconvert_exporter": "python",
   "pygments_lexer": "ipython3",
   "version": "3.11.4"
  }
 },
 "nbformat": 4,
 "nbformat_minor": 2
}
